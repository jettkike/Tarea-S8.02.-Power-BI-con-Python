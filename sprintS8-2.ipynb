{
 "cells": [
  {
   "cell_type": "markdown",
   "id": "c288ded8",
   "metadata": {},
   "source": [
    "- Exercici 1\n",
    "\n",
    "Una variable numèrica."
   ]
  },
  {
   "cell_type": "markdown",
   "id": "5adcbc0b",
   "metadata": {},
   "source": [
    "``` python\n",
    "# El código siguiente, que crea un dataframe y quita las filas duplicadas, siempre se ejecuta y actúa como un preámbulo del script: \n",
    "\n",
    "# dataset = pandas.DataFrame(amount, declined)\n",
    "# dataset = dataset.drop_duplicates()\n",
    "\n",
    "# Pegue o escriba aquí el código de script:\n",
    "import matplotlib.pyplot as plt\n",
    "import seaborn as sns\n",
    "import pandas as pd\n",
    "\n",
    "df_trans_exitosas = dataset[dataset['declined']== 0].sort_values(by= 'amount',ascending= False)\n",
    "plt.subplots(figsize = (10,5))\n",
    "sns.histplot(df_trans_exitosas['amount'], color='#2929e4')\n",
    "plt.title('E1-Distribucion del Monto en Transacciones Exitosas')\n",
    "plt.xlabel('Monto(€)')\n",
    "plt.ylabel('Frecuencia')\n",
    "plt.grid(True, axis='y')\n",
    "plt.tight_layout()\n",
    "plt.show()\n",
    "```"
   ]
  },
  {
   "cell_type": "markdown",
   "id": "d8ab48ab",
   "metadata": {},
   "source": [
    "Ejercicio 2\n",
    "\n",
    "Dos variables numéricas."
   ]
  },
  {
   "cell_type": "markdown",
   "id": "9944c1e1",
   "metadata": {},
   "source": [
    "``` python\n",
    "# El código siguiente, que crea un dataframe y quita las filas duplicadas, siempre se ejecuta y actúa como un preámbulo del script: \n",
    "\n",
    "# dataset = pandas.DataFrame(price, weight)\n",
    "# dataset = dataset.drop_duplicates()\n",
    "\n",
    "# Pegue o escriba aquí el código de script:\n",
    "import matplotlib.pyplot as plt\n",
    "import seaborn as sns\n",
    "import pandas as pd\n",
    "\n",
    "plt.subplots(figsize = (10,6))\n",
    "sns.scatterplot(data= dataset, x = dataset['weight'], y= dataset['price'], palette = '#2929e4', s=100)\n",
    "plt.title('E2-Peso del producto vs. Precio del producto')\n",
    "plt.xlabel('Peso')\n",
    "plt.ylabel('Precio')\n",
    "plt.grid(True, axis='both', which='both')\n",
    "plt.tight_layout()\n",
    "plt.show()\n",
    "```"
   ]
  },
  {
   "cell_type": "markdown",
   "id": "a47aa9b7",
   "metadata": {},
   "source": [
    "- Ejercicio 3\n",
    "\n",
    "Una variable categórica."
   ]
  },
  {
   "cell_type": "markdown",
   "id": "48bd0768",
   "metadata": {},
   "source": [
    "``` python\n",
    "# El código siguiente, que crea un dataframe y quita las filas duplicadas, siempre se ejecuta y actúa como un preámbulo del script: \n",
    "\n",
    "# dataset = pandas.DataFrame(country, company_id)\n",
    "# dataset = dataset.drop_duplicates()\n",
    "\n",
    "# Pegue o escriba aquí el código de script:\n",
    "import matplotlib.pyplot as plt\n",
    "import seaborn as sns\n",
    "import pandas as pd\n",
    "\n",
    "ordenado = dataset['country'].value_counts().index\n",
    "plt.subplots(figsize = (10,5))\n",
    "sns.countplot(data=dataset, x='country', order = ordenado, color= '#2929e4')\n",
    "plt.title('E3 - Distribución de Paises')\n",
    "plt.xlabel('Country')\n",
    "plt.ylabel('Frecuencia')\n",
    "plt.grid(True, axis='y')\n",
    "plt.xticks(rotation=90)\n",
    "plt.tight_layout()\n",
    "plt.show()\n",
    "```"
   ]
  },
  {
   "cell_type": "markdown",
   "id": "346b8af1",
   "metadata": {},
   "source": [
    "- Ejercicio 4\n",
    "\n",
    "Una variable categórica y una numérica."
   ]
  },
  {
   "cell_type": "markdown",
   "id": "befbf4c6",
   "metadata": {},
   "source": [
    "``` python\n",
    "# El código siguiente, que crea un dataframe y quita las filas duplicadas, siempre se ejecuta y actúa como un preámbulo del script: \n",
    "\n",
    "# dataset = pandas.DataFrame(country, amount, declined, id)\n",
    "# dataset = dataset.drop_duplicates()\n",
    "\n",
    "# Pegue o escriba aquí el código de script:\n",
    "import matplotlib.pyplot as plt\n",
    "import seaborn as sns\n",
    "import pandas as pd\n",
    "\n",
    "df_monto_x_pais = dataset.groupby('country')[['amount']].sum().sort_values(by='amount',ascending= False).reset_index()\n",
    "\n",
    "plt.subplots(figsize = (10,5))\n",
    "sns.barplot(data = df_monto_x_pais,y='amount', x= 'country', errorbar=None, order= df_monto_x_pais['country'], color= '#2929e4')\n",
    "plt.title('E4 - Monto Total de Transacciones Exitosas por Pais')\n",
    "plt.xlabel('Paises')\n",
    "plt.ylabel('Monto (€)')\n",
    "plt.grid(True, axis='y')\n",
    "plt.xticks(rotation=90)\n",
    "plt.tight_layout()\n",
    "plt.show()\n",
    "```"
   ]
  },
  {
   "cell_type": "markdown",
   "id": "d4c533ae",
   "metadata": {},
   "source": [
    "- Ejercicio 5\n",
    "\n",
    "Dos variables categóricas."
   ]
  },
  {
   "cell_type": "markdown",
   "id": "a50ac419",
   "metadata": {},
   "source": [
    "``` python\n",
    "#Este grafico ha sido cambiado a countplot\n",
    "# El código siguiente, que crea un dataframe y quita las filas duplicadas, siempre se ejecuta y actúa como un preámbulo del script: \n",
    "\n",
    "# dataset = pandas.DataFrame(country, declined, id)\n",
    "# dataset = dataset.drop_duplicates()\n",
    "\n",
    "# Pegue o escriba aquí el código de script:\n",
    "import matplotlib.pyplot as plt\n",
    "import seaborn as sns\n",
    "import pandas as pd\n",
    "palette = ['#2929e4', '#e12027']\n",
    "\n",
    "sns.countplot(data=dataset, x='country', hue='declined', palette= palette)\n",
    "plt.title('Transacciones Exitosas y Rechazadas por Pais de Usuario')\n",
    "plt.xlabel('Pais')\n",
    "plt.ylabel('Frecuencia')\n",
    "plt.grid(True, axis='y')\n",
    "plt.tight_layout()\n",
    "plt.show()\n",
    "```"
   ]
  },
  {
   "cell_type": "markdown",
   "id": "8e95007e",
   "metadata": {},
   "source": [
    "- Ejercicio 6\n",
    "\n",
    "Tres variables."
   ]
  },
  {
   "cell_type": "markdown",
   "id": "b9c1284f",
   "metadata": {},
   "source": [
    "``` python\n",
    "# El código siguiente, que crea un dataframe y quita las filas duplicadas, siempre se ejecuta y actúa como un preámbulo del script: \n",
    "\n",
    "# dataset = pandas.DataFrame(country, amount, business_id)\n",
    "# dataset = dataset.drop_duplicates()\n",
    "\n",
    "# Pegue o escriba aquí el código de script:\n",
    "import matplotlib.pyplot as plt\n",
    "import seaborn as sns\n",
    "import pandas as pd\n",
    "\n",
    "media_amount = dataset.groupby('country')[['amount']].mean().reset_index()\n",
    "media_amount.columns= ['country', 'media']\n",
    "media_amount = media_amount.round(2)\n",
    "\n",
    "df_monto_x_pais = dataset.groupby('country')[['amount']].sum().reset_index()\n",
    "\n",
    "union_media_amount = df_monto_x_pais.merge(media_amount, on='country').sort_values(by='amount',ascending= False)\n",
    "\n",
    "plt.subplots(figsize = (10,6))\n",
    "sns.scatterplot(data=union_media_amount, x='media', y='amount', hue='country', hue_order = union_media_amount['country'], \n",
    "                legend= 'auto', palette= 'tab20', s=100)\n",
    "plt.title('E6 - Relación entre la Media y el Monto de Transacciones Exitosas por Pais')\n",
    "plt.xlabel('Media')\n",
    "plt.ylabel('Monto(€)')\n",
    "plt.grid(True, axis='both', which='both')\n",
    "plt.tight_layout()\n",
    "plt.show()\n",
    "```"
   ]
  },
  {
   "cell_type": "markdown",
   "id": "1fb1dc65",
   "metadata": {},
   "source": [
    "- Ejercicio 7\n",
    "\n",
    "Graficar un Pairplot."
   ]
  },
  {
   "cell_type": "markdown",
   "id": "3e15016c",
   "metadata": {},
   "source": [
    "``` python\n",
    "# El código siguiente, que crea un dataframe y quita las filas duplicadas, siempre se ejecuta y actúa como un preámbulo del script: \n",
    "\n",
    "# dataset = pandas.DataFrame(amount, price, weight, id_tran)\n",
    "# dataset = dataset.drop_duplicates()\n",
    "\n",
    "# Pegue o escriba aquí el código de script:\n",
    "import matplotlib.pyplot as plt\n",
    "import seaborn as sns\n",
    "import pandas as pd\n",
    "\n",
    "dataset['amount'] = dataset['amount'].fillna('0')\n",
    "dataset['amount'] = dataset['amount'].astype('float64')\n",
    "dataset['No_Comprado'] = dataset[\"amount\"] == 0\n",
    "\n",
    "seleccion = dataset[['amount', 'price', 'weight', 'No_Comprado']]\n",
    "\n",
    "g = sns.PairGrid(data=seleccion, hue='No_Comprado', \n",
    "                 palette={False: '#2929e4', True: '#ff006e'}, \n",
    "                 corner=False, height=3)\n",
    "\n",
    "g.map_lower(sns.scatterplot)\n",
    "g.map_upper(sns.kdeplot, levels=7)\n",
    "g.map_diag(sns.histplot)\n",
    "g.add_legend(bbox_to_anchor=(1.04, 0.45), loc='upper right', borderaxespad=2.5)\n",
    "g.figure.suptitle('Relación entre Monto, Precio y Peso de Productos Comprados y No Comprados', y=1.03)\n",
    "plt.tight_layout()\n",
    "plt.show()\n",
    "```"
   ]
  },
  {
   "cell_type": "markdown",
   "id": "57274cfb",
   "metadata": {},
   "source": [
    "Nivell 2\n",
    "\n",
    "Exercicio 1\n",
    "\n",
    "Correlación de todas las variables numéricas."
   ]
  },
  {
   "cell_type": "markdown",
   "id": "6de8c8b0",
   "metadata": {},
   "source": [
    "``` python\n",
    "# El código siguiente, que crea un dataframe y quita las filas duplicadas, siempre se ejecuta y actúa como un preámbulo del script: \n",
    "\n",
    "# dataset = pandas.DataFrame(amount, lat, longitude, edad, id)\n",
    "# dataset = dataset.drop_duplicates()\n",
    "\n",
    "# Pegue o escriba aquí el código de script:\n",
    "import matplotlib.pyplot as plt\n",
    "import seaborn as sns\n",
    "import pandas as pd\n",
    "\n",
    "df_numericas = dataset.select_dtypes(include=['int64', 'float64'])\n",
    "matriz=df_numericas.corr(method='spearman')\n",
    "\n",
    "plt.subplots(figsize = (10,8))\n",
    "sns.heatmap(matriz, vmin = -1, vmax = 1, annot=True, square=True, cmap=\"YlGnBu\")\n",
    "plt.title('E1 - Correlaciones entre Variables Numéricas')\n",
    "plt.tight_layout()\n",
    "plt.show()\n",
    "```"
   ]
  },
  {
   "cell_type": "markdown",
   "id": "c551d877",
   "metadata": {},
   "source": [
    "Ejercicio 2\n",
    "\n",
    "Implementa un jointplot."
   ]
  },
  {
   "cell_type": "markdown",
   "id": "0657a6a6",
   "metadata": {},
   "source": [
    "``` python\n",
    "# El código siguiente, que crea un dataframe y quita las filas duplicadas, siempre se ejecuta y actúa como un preámbulo del script: \n",
    "\n",
    "# dataset = pandas.DataFrame(edad, amount, declined, id)\n",
    "# dataset = dataset.drop_duplicates()\n",
    "\n",
    "# Pegue o escriba aquí el código de script:\n",
    "import matplotlib.pyplot as plt\n",
    "import seaborn as sns\n",
    "import pandas as pd\n",
    "palette = ['#2929e4', '#e12027']\n",
    "g = sns.jointplot(dataset, y='amount', x='edad', hue='declined',marginal_ticks=True, palette= palette, height=7)\n",
    "plt.suptitle(\"Relacion entre la Edad y el Monto por Transacciones Exitosas Y Rechazadas\", y=1.03)\n",
    "g.ax_joint.set_xlabel('Edad de Usuarios')\n",
    "g.ax_joint.set_ylabel('Monto de Transacciones(€)')\n",
    "g.ax_joint.set_xlim(23, 50)\n",
    "g.ax_joint.set_ylim(-1,550)\n",
    "plt.tight_layout()\n",
    "plt.show()\n",
    "```"
   ]
  },
  {
   "cell_type": "markdown",
   "id": "a73abad3",
   "metadata": {},
   "source": [
    "Nivel 3\n",
    "\n",
    "Ejercicio 1\n",
    "\n",
    "Implementa un violinplot combinado con otro tipo de gráfico."
   ]
  },
  {
   "cell_type": "markdown",
   "id": "c3cd675d",
   "metadata": {},
   "source": [
    "``` python\n",
    "# El código siguiente, que crea un dataframe y quita las filas duplicadas, siempre se ejecuta y actúa como un preámbulo del script: \n",
    "\n",
    "# dataset = pandas.DataFrame(amount, country, declined, id)\n",
    "# dataset = dataset.drop_duplicates()\n",
    "\n",
    "# Pegue o escriba aquí el código de script:\n",
    "import matplotlib.pyplot as plt\n",
    "import seaborn as sns\n",
    "import pandas as pd\n",
    "\n",
    "plt.subplots(figsize=(20, 6))\n",
    "sns.violinplot(dataset, y='amount', x='country', hue='declined',split=True, inner=None, palette= {0 : '#2929e4', 1 :'#e12027'})\n",
    "sns.boxplot(dataset, y='amount', x='country', hue='declined',dodge=True, width=0.2, showcaps=True,showfliers=False,\n",
    "            palette= {0 : '#2929e4', 1 :'#e12027'},\n",
    "            boxprops=dict(facecolor='None', edgecolor= 'white'),\n",
    "            medianprops=dict(color='white'),\n",
    "            whiskerprops=dict(color='white'),\n",
    "            capprops=dict(color='white'))\n",
    "plt.title('E1 - Monto vs País de Usuario y Transacciones Exitosas y Rechazadas')\n",
    "plt.xlabel('Pais Usuarios')\n",
    "plt.ylabel('Monto(€)')\n",
    "plt.grid(True, axis='both', which='both');\n",
    "\n",
    "handles, labels = plt.gca().get_legend_handles_labels()\n",
    "unique = dict(zip(labels, handles))\n",
    "plt.legend(unique.values(), unique.keys(), title='declined')\n",
    "plt.tight_layout()\n",
    "plt.show()\n",
    "```"
   ]
  },
  {
   "cell_type": "markdown",
   "id": "54404851",
   "metadata": {},
   "source": [
    "Ejercicio 2\n",
    "\n",
    "Genera un FacetGrid para visualizar múltiples aspectos de datos simultáneamente."
   ]
  },
  {
   "cell_type": "markdown",
   "id": "5ae8322a",
   "metadata": {},
   "source": [
    "```python\n",
    "# El código siguiente, que crea un dataframe y quita las filas duplicadas, siempre se ejecuta y actúa como un preámbulo del script: \n",
    "\n",
    "# dataset = pandas.DataFrame(country, amount, declined, edad, id)\n",
    "# dataset = dataset.drop_duplicates()\n",
    "\n",
    "# Pegue o escriba aquí el código de script:\n",
    "import matplotlib.pyplot as plt\n",
    "import seaborn as sns\n",
    "import pandas as pd\n",
    "\n",
    "palette = ['#2929e4', '#e12027']\n",
    "g=sns.FacetGrid(dataset, col='country', row='declined', height=3, aspect=1.9, palette=palette)\n",
    "g.map(sns.scatterplot, 'edad', 'amount' )\n",
    "g.set_axis_labels(\"Edad\", \"Monto(€)\")\n",
    "g.tight_layout()\n",
    "plt.tight_layout()\n",
    "plt.show()\n",
    "```"
   ]
  }
 ],
 "metadata": {
  "kernelspec": {
   "display_name": "Python 3",
   "language": "python",
   "name": "python3"
  },
  "language_info": {
   "codemirror_mode": {
    "name": "ipython",
    "version": 3
   },
   "file_extension": ".py",
   "mimetype": "text/x-python",
   "name": "python",
   "nbconvert_exporter": "python",
   "pygments_lexer": "ipython3",
   "version": "3.11.3"
  }
 },
 "nbformat": 4,
 "nbformat_minor": 5
}
